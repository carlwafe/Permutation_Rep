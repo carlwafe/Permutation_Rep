{
 "cells": [
  {
   "cell_type": "code",
   "execution_count": 1,
   "id": "8c788975",
   "metadata": {},
   "outputs": [],
   "source": [
    "%run AplusA(k,n).ipynb"
   ]
  },
  {
   "cell_type": "code",
   "execution_count": 2,
   "id": "2a37aff6",
   "metadata": {},
   "outputs": [],
   "source": [
    "#### Will load in particular:\n",
    "#### A3_11_paper_schur\n",
    "#### A4_11_paper_schur\n",
    "%run formulas_paper.ipynb"
   ]
  },
  {
   "cell_type": "code",
   "execution_count": 3,
   "id": "cd9ea30d",
   "metadata": {},
   "outputs": [],
   "source": [
    "%run A_paper.ipynb"
   ]
  },
  {
   "cell_type": "code",
   "execution_count": 4,
   "id": "a509c612",
   "metadata": {},
   "outputs": [],
   "source": [
    "%run A(k,n).ipynb"
   ]
  },
  {
   "cell_type": "code",
   "execution_count": 5,
   "id": "c5c8a1cb",
   "metadata": {},
   "outputs": [
    {
     "name": "stdout",
     "output_type": "stream",
     "text": [
      "True for n = 5\n",
      "True for n = 6\n",
      "True for n = 7\n",
      "True for n = 8\n",
      "True for n = 9\n",
      "True for n = 10\n",
      "True for n = 11\n",
      "True for n = 12\n",
      "True for n = 13\n",
      "True for n = 14\n",
      "True for n = 15\n",
      "True for n = 16\n",
      "True for n = 17\n"
     ]
    }
   ],
   "source": [
    "for n in range(5,18):\n",
    "    print(A(1,n) == A_paper(1,n),\"for n =\",n)"
   ]
  },
  {
   "cell_type": "code",
   "execution_count": 6,
   "id": "60221003",
   "metadata": {},
   "outputs": [
    {
     "name": "stdout",
     "output_type": "stream",
     "text": [
      "True for n = 5\n",
      "True for n = 6\n",
      "True for n = 7\n",
      "True for n = 8\n",
      "True for n = 9\n",
      "True for n = 10\n",
      "True for n = 11\n",
      "True for n = 12\n",
      "True for n = 13\n",
      "True for n = 14\n"
     ]
    }
   ],
   "source": [
    "for n in range(5,15):\n",
    "    print(A(2,n) == A_paper(2,n),\"for n =\",n)"
   ]
  },
  {
   "cell_type": "code",
   "execution_count": 7,
   "id": "05603857",
   "metadata": {},
   "outputs": [
    {
     "name": "stdout",
     "output_type": "stream",
     "text": [
      "1 5 True for n = 5\n",
      "1 6 True for n = 6\n",
      "1 7 True for n = 7\n",
      "1 8 True for n = 8\n",
      "1 9 True for n = 9\n",
      "1 10 True for n = 10\n",
      "1 11 True for n = 11\n",
      "1 12 True for n = 12\n"
     ]
    }
   ],
   "source": [
    "for n in range(5,13):\n",
    "    print(1,n,A(3,n) == A_paper(3,n),\"for n =\",n)"
   ]
  },
  {
   "cell_type": "code",
   "execution_count": 18,
   "id": "2ce605fb",
   "metadata": {},
   "outputs": [
    {
     "data": {
      "text/plain": [
       "True"
      ]
     },
     "execution_count": 18,
     "metadata": {},
     "output_type": "execute_result"
    }
   ],
   "source": [
    "# By Poincare duality \n",
    "A(4,7) == s[7]"
   ]
  },
  {
   "cell_type": "code",
   "execution_count": 15,
   "id": "10c370b2",
   "metadata": {},
   "outputs": [
    {
     "data": {
      "text/plain": [
       "True"
      ]
     },
     "execution_count": 15,
     "metadata": {},
     "output_type": "execute_result"
    }
   ],
   "source": [
    "# By Poincare duality \n",
    "A(4,8) == A_paper(1,8)"
   ]
  },
  {
   "cell_type": "code",
   "execution_count": 13,
   "id": "6efcac43",
   "metadata": {},
   "outputs": [
    {
     "data": {
      "text/plain": [
       "True"
      ]
     },
     "execution_count": 13,
     "metadata": {},
     "output_type": "execute_result"
    }
   ],
   "source": [
    "# By Poincare duality \n",
    "A(4,9) == A_paper(2,9)"
   ]
  },
  {
   "cell_type": "code",
   "execution_count": 16,
   "id": "008e599a",
   "metadata": {},
   "outputs": [
    {
     "data": {
      "text/plain": [
       "True"
      ]
     },
     "execution_count": 16,
     "metadata": {},
     "output_type": "execute_result"
    }
   ],
   "source": [
    "# By Poincare duality \n",
    "A(4,10) == A_paper(3,10)"
   ]
  },
  {
   "cell_type": "code",
   "execution_count": 20,
   "id": "b0b8e124",
   "metadata": {},
   "outputs": [
    {
     "data": {
      "text/plain": [
       "True"
      ]
     },
     "execution_count": 20,
     "metadata": {},
     "output_type": "execute_result"
    }
   ],
   "source": [
    "A(4,11) == A4_11_paper_schur"
   ]
  },
  {
   "cell_type": "code",
   "execution_count": null,
   "id": "8a2eb033",
   "metadata": {},
   "outputs": [],
   "source": []
  }
 ],
 "metadata": {
  "kernelspec": {
   "display_name": "SageMath 10.1",
   "language": "sage",
   "name": "sagemath"
  },
  "language_info": {
   "codemirror_mode": {
    "name": "ipython",
    "version": 3
   },
   "file_extension": ".py",
   "mimetype": "text/x-python",
   "name": "python",
   "nbconvert_exporter": "python",
   "pygments_lexer": "ipython3",
   "version": "3.11.1"
  }
 },
 "nbformat": 4,
 "nbformat_minor": 5
}
