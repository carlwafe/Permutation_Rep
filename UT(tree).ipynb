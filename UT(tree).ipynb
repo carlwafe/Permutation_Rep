{
 "cells": [
  {
   "cell_type": "code",
   "execution_count": 6,
   "id": "7ac4c220",
   "metadata": {},
   "outputs": [],
   "source": [
    "import itertools\n",
    "Sym = SymmetricFunctions(QQ)\n",
    "h = Sym.homogeneous()\n",
    "s = Sym.schur()\n",
    "\n",
    "# tree is a LabelledRootedTree with labels (weight, num_leaves)\n",
    "# returns the symmetric polynomial of U_T\n",
    "\n",
    "def UT(tree):\n",
    "    result = None\n",
    "    (w0, leaves) = tree.label()\n",
    "    \n",
    "    result = h[leaves]\n",
    "\n",
    "    for (subtree, subtree_iter) in itertools.groupby(tree):\n",
    "        d = len(list(subtree_iter))\n",
    "        result *= h[d].plethysm(UT(subtree))\n",
    "\n",
    "    return result"
   ]
  },
  {
   "cell_type": "code",
   "execution_count": 7,
   "id": "a4458877",
   "metadata": {},
   "outputs": [],
   "source": [
    "#Use dynamic programing to make this more efficient -> Use \n",
    "#Use dictonaries to store information\n",
    "d = dict()\n",
    "d['apple'] = 0\n",
    "#d['apple']"
   ]
  },
  {
   "cell_type": "code",
   "execution_count": 8,
   "id": "f2219156",
   "metadata": {},
   "outputs": [],
   "source": [
    "## Testing UT\n",
    "t = LabelledRootedTree([], label=(1,3))\n",
    "t = LabelledRootedTree([t], label=(1,2))\n",
    "t = LabelledRootedTree([t,t], label=(0,0))\n",
    "#UT(t) == h[0]*h[2].plethysm(h[2]*h[3])"
   ]
  },
  {
   "cell_type": "code",
   "execution_count": 9,
   "id": "c183446d",
   "metadata": {},
   "outputs": [],
   "source": [
    "t = LabelledRootedTree([],label=(1,3))\n",
    "t = LabelledRootedTree([t,t],label=(2,2))\n",
    "t = LabelledRootedTree([t],label=(0,1))\n",
    "#t"
   ]
  },
  {
   "cell_type": "code",
   "execution_count": 14,
   "id": "66205471",
   "metadata": {},
   "outputs": [
    {
     "data": {
      "text/plain": [
       "s[4, 2, 2, 1] + s[4, 3, 1, 1] + 2*s[4, 3, 2] + 2*s[4, 4, 1] + s[5, 2, 1, 1] + 2*s[5, 2, 2] + 3*s[5, 3, 1] + 2*s[5, 4] + 3*s[6, 2, 1] + 3*s[6, 3] + s[7, 1, 1] + 3*s[7, 2] + 2*s[8, 1] + s[9]"
      ]
     },
     "execution_count": 14,
     "metadata": {},
     "output_type": "execute_result"
    }
   ],
   "source": [
    "s(h[1]*h[2]*h[2].plethysm(h[3]))"
   ]
  },
  {
   "cell_type": "code",
   "execution_count": null,
   "id": "4fd30cbf",
   "metadata": {},
   "outputs": [],
   "source": []
  }
 ],
 "metadata": {
  "kernelspec": {
   "display_name": "SageMath 10.1",
   "language": "sage",
   "name": "sagemath"
  },
  "language_info": {
   "codemirror_mode": {
    "name": "ipython",
    "version": 3
   },
   "file_extension": ".py",
   "mimetype": "text/x-python",
   "name": "python",
   "nbconvert_exporter": "python",
   "pygments_lexer": "ipython3",
   "version": "3.11.1"
  }
 },
 "nbformat": 4,
 "nbformat_minor": 5
}
