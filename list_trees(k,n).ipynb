{
 "cells": [
  {
   "cell_type": "code",
   "execution_count": 1,
   "id": "f1289ecc",
   "metadata": {},
   "outputs": [],
   "source": [
    "import numpy as np\n",
    "## Define the tree with one vertex and weight 1\n",
    "one_tree = LabelledRootedTree([], label = (1,0))\n",
    "## Define the tree with one vertex and weight 0\n",
    "zero_tree = LabelledRootedTree([], label = (0,0))\n",
    "\n",
    "def bare_trees(k): \n",
    "    result = [set() for i in np.arange(k+1)]\n",
    "    result[0].add(zero_tree)\n",
    "    if k == 0:\n",
    "        return result[0]\n",
    "    else:\n",
    "        for i in range(1,k+1):\n",
    "            for t in result[i-1]:\n",
    "                for p in list(OrderedTree(t).paths()):\n",
    "                    ## add a vertex to any vertex in the tree\n",
    "                    result[i].add(t.single_graft(LabelledRootedTree([one_tree]),[p]))\n",
    "                    ## increase the weight of a node by 1\n",
    "                    temp = None\n",
    "                    with t.clone() as tc:\n",
    "                        tc.set_label(p, (t.label(p)[0]+1,0))\n",
    "                        temp = tc ## Need to add outside of the clone thing, otherwise there is a bug\n",
    "                    result[i].add(temp)\n",
    "        return result[i]"
   ]
  },
  {
   "cell_type": "code",
   "execution_count": 2,
   "id": "864affb6",
   "metadata": {},
   "outputs": [],
   "source": [
    "# k is the total weight of the tree\n",
    "#k = 4\n",
    "#for i in range(0,k+1):\n",
    "#    print(\"There are\",len(bare_trees(i)),\"bare trees with weight\",i)"
   ]
  },
  {
   "cell_type": "code",
   "execution_count": 3,
   "id": "952ff757",
   "metadata": {},
   "outputs": [],
   "source": [
    "## Define a function that given a labelled tree and a path to a node, returns the number of children\n",
    "def children(t,p):\n",
    "    temp = t.shape()\n",
    "    for i in p:\n",
    "        temp = temp[i]\n",
    "    return(len(temp))\n",
    "def valency(t,p):\n",
    "    return(children(t,p)+1+t.label(p)[1])\n",
    "def weight_at_p(t,p):\n",
    "    return t.label(p)[0]\n",
    "def total_weight(t):\n",
    "    result = 0\n",
    "    for p in OrderedTree(t).paths():\n",
    "        result += weight_at_p(t,p)\n",
    "    return result"
   ]
  },
  {
   "cell_type": "code",
   "execution_count": 4,
   "id": "24a2fc59",
   "metadata": {},
   "outputs": [],
   "source": [
    "## Example\n",
    "t = LabelledRootedTree([one_tree,one_tree],label = 0)\n",
    "t = LabelledRootedTree([t,t],label = 0)\n",
    "t = LabelledRootedTree([t,t],label = 0)\n",
    "p = list(OrderedTree(t).paths())[2]\n",
    "#children(t,p) ## should be 2"
   ]
  },
  {
   "cell_type": "code",
   "execution_count": 5,
   "id": "f821f1c3",
   "metadata": {},
   "outputs": [],
   "source": [
    "## Example\n",
    "t = LabelledRootedTree([one_tree,one_tree,one_tree,one_tree],label = (0,0))\n",
    "number_leafs = 0\n",
    "for p in OrderedTree(t).paths():\n",
    "    if t.label(p)[0] + 2 - children(t,p) >= 0:\n",
    "        number_leafs += t.label(p)[0] + 2 - children(t,p)\n",
    "#print(\"the tree\",t,\"has a minimum of\",number_leafs,\"leafs\")"
   ]
  },
  {
   "cell_type": "code",
   "execution_count": 6,
   "id": "eb0af182",
   "metadata": {},
   "outputs": [],
   "source": [
    "## Given a number legs n and a weight k, returns a list of possible trees\n",
    "def possible_trees(k,n):\n",
    "    return_trees = [t for t in bare_trees(k)]\n",
    "    ## filter our the trees that can't have n leafs\n",
    "    for t in return_trees.copy():\n",
    "        leafs_t = 0\n",
    "        for p in list(OrderedTree(t).paths()):\n",
    "            if t.label(p)[0] + 3 - valency(t,p) >= 0:\n",
    "                requiered_leafs_t_p = t.label(p)[0] + 3 - valency(t,p)\n",
    "                leafs_t += requiered_leafs_t_p\n",
    "        if leafs_t > n:\n",
    "            return_trees.remove(t)\n",
    "    return return_trees"
   ]
  },
  {
   "cell_type": "code",
   "execution_count": 7,
   "id": "8022b3b4",
   "metadata": {},
   "outputs": [],
   "source": [
    "#n = 10\n",
    "#k = 4\n",
    "#for i in np.arange(k+1):\n",
    "#    print(len(possible_trees(i,n)),\"trees of weight\",i,\"with\",n,\"leafs are possible\")"
   ]
  },
  {
   "cell_type": "code",
   "execution_count": 8,
   "id": "e5fb34e5",
   "metadata": {},
   "outputs": [],
   "source": [
    "## Given a bare tree and a number of leafs, returns the tree with the minimum number of leafs on it\n",
    "def tree_with_minimum_leafs(t,n):\n",
    "    leafs_minimum_t = 0\n",
    "    ## add the required amount of leafs as labels to t\n",
    "    for p in reversed(list(OrderedTree(t).paths())):    #Go backwards through paths, because\n",
    "                                                        # after chaning label tree gets reordered\n",
    "        requiered_leafs_t_p = t.label(p)[0] + 3 - valency(t,p)\n",
    "        if requiered_leafs_t_p > 0:\n",
    "            with t.clone() as tc:\n",
    "                tc.set_label(p, (t.label(p)[0],requiered_leafs_t_p))\n",
    "                temp = tc ## Need to add outside of the clone thing, otherwise there is a bug\n",
    "            t = temp\n",
    "            leafs_minimum_t += requiered_leafs_t_p\n",
    "    return t"
   ]
  },
  {
   "cell_type": "code",
   "execution_count": 9,
   "id": "fef73eb4",
   "metadata": {},
   "outputs": [],
   "source": [
    "### Checking\n",
    "#for t in bare_trees(4):\n",
    "#    tc = tree_with_minimum_leafs(t,10)\n",
    "#    for p in list(OrderedTree(tc).paths()):\n",
    "#        if not valency(tc,p)-3-weight(tc,p) == 0:\n",
    "#            print(tc,\"at\",p,\"has\",valency(tc,p)-3-weight(tc,p))"
   ]
  },
  {
   "cell_type": "code",
   "execution_count": 10,
   "id": "0741af10",
   "metadata": {},
   "outputs": [],
   "source": [
    "## Given a weight k and a number of leafs n, returns a list of trees with minimum leafs\n",
    "def list_of_trees_with_minimum_leafs(k,n):\n",
    "    return_trees = []\n",
    "    for t in possible_trees(k,n):\n",
    "        return_trees += [tree_with_minimum_leafs(t,n)]\n",
    "    return return_trees"
   ]
  },
  {
   "cell_type": "code",
   "execution_count": 11,
   "id": "d3fc1b0f",
   "metadata": {},
   "outputs": [],
   "source": [
    "## Given a tree returns the number of leafs on it\n",
    "def number_of_leafs(t):\n",
    "    return_leafs = 0\n",
    "    for p in list(OrderedTree(t).paths()):\n",
    "        return_leafs += t.label(p)[1]\n",
    "    return return_leafs"
   ]
  },
  {
   "cell_type": "code",
   "execution_count": 12,
   "id": "9092f56a",
   "metadata": {},
   "outputs": [],
   "source": [
    "# an iterator over the points of N^n with coordinates summing to d\n",
    "# n must be at least 1\n",
    "def simplex(n,d):\n",
    "    if n == 0 or d < 0 : raise ValueError(\"invalid input, n must be positive and d must be nonnegative : (n, d) = (%d, %d)\" % (n, d))\n",
    "    elif n == 1 :\n",
    "        yield [d]\n",
    "    else:\n",
    "        for d_last in range(d+1):\n",
    "            for p in simplex(n-1, d - d_last):\n",
    "                yield p + [d_last]"
   ]
  },
  {
   "cell_type": "code",
   "execution_count": 13,
   "id": "7aea8639",
   "metadata": {},
   "outputs": [],
   "source": [
    "### Testing simplex function\n",
    "###list(simplex(3, 3))"
   ]
  },
  {
   "cell_type": "code",
   "execution_count": 14,
   "id": "996323d2",
   "metadata": {},
   "outputs": [],
   "source": [
    "def set_of_trees_from_t(t,n):\n",
    "    return_trees = set()\n",
    "    leafs_left_t = n-number_of_leafs(t)\n",
    "    if leafs_left_t == 0:\n",
    "        return {t}\n",
    "    number_nodes = len(list(OrderedTree(t).paths()))\n",
    "    for leaf_count in simplex(number_nodes, leafs_left_t):\n",
    "        # leaf_count is the list of integers saying how many leaves to add to each node on the tree\n",
    "        temp = None\n",
    "        with t.clone() as tc:\n",
    "            for p, l in reversed(list(zip(OrderedTree(t).paths(), leaf_count))):\n",
    "                tc.set_label(p, (t.label(p)[0], t.label(p)[1]+l))\n",
    "            temp = tc\n",
    "        return_trees.add(temp)\n",
    "    return return_trees"
   ]
  },
  {
   "cell_type": "code",
   "execution_count": 15,
   "id": "71924208",
   "metadata": {},
   "outputs": [],
   "source": [
    "def old_set_of_trees_from_t(t,n):\n",
    "    return_trees = set()\n",
    "    leafs_left_t = n-number_of_leafs(t)\n",
    "    if leafs_left_t == 0:\n",
    "        return {t}\n",
    "    number_nodes = len(list(OrderedTree(t).paths()))\n",
    "    for leaf_count in simplex(number_nodes, leafs_left_t):\n",
    "        # leaf_count is the list of integers saying how many leaves to add to each node on the tree\n",
    "        temp = None\n",
    "        with t.clone() as tc:\n",
    "            for p, l in zip(OrderedTree(t).paths(), leaf_count):\n",
    "                tc.set_label(p, (t.label(p)[0], t.label(p)[1]+l))\n",
    "            temp = tc\n",
    "        return_trees.add(temp)\n",
    "    return return_trees"
   ]
  },
  {
   "cell_type": "code",
   "execution_count": 16,
   "id": "c4db93cb",
   "metadata": {},
   "outputs": [],
   "source": [
    "## Given weight k, number of leafs n, returns a list of possible trees\n",
    "def list_trees(k,n):\n",
    "    return_trees = []\n",
    "    for t in list_of_trees_with_minimum_leafs(k,n):\n",
    "        for s in set_of_trees_from_t(t,n):\n",
    "            return_trees += [s]\n",
    "    return return_trees"
   ]
  },
  {
   "cell_type": "code",
   "execution_count": 17,
   "id": "0931e978",
   "metadata": {},
   "outputs": [],
   "source": [
    "## Given weight k, number of leafs n, returns a list of possible trees\n",
    "def old_list_trees(k,n):\n",
    "    return_trees = []\n",
    "    for t in list_of_trees_with_minimum_leafs(k,n):\n",
    "        for s in old_set_of_trees_from_t(t,n):\n",
    "            return_trees += [s]\n",
    "    return return_trees"
   ]
  },
  {
   "cell_type": "code",
   "execution_count": 18,
   "id": "79867045",
   "metadata": {},
   "outputs": [],
   "source": [
    "#len(list_trees(4,10))"
   ]
  },
  {
   "cell_type": "code",
   "execution_count": 19,
   "id": "3b888ba5",
   "metadata": {},
   "outputs": [],
   "source": [
    "#for i, t in enumerate(old_list_trees(4,10)):\n",
    "#    if not number_of_leafs(t) == 10:\n",
    "#        print(i,t,\"does not have the right number of leafs\")\n",
    "#    if not total_weight(t) == 4:\n",
    "#        print(t,\"does not have the right weight\")"
   ]
  },
  {
   "cell_type": "code",
   "execution_count": 20,
   "id": "c5f51242",
   "metadata": {},
   "outputs": [],
   "source": [
    "bad_tree = None\n",
    "for t in list_of_trees_with_minimum_leafs(4,10):\n",
    "    for s in old_set_of_trees_from_t(t,10):\n",
    "        if not number_of_leafs(s) == 10:\n",
    "            #print(set_of_trees_from_t(t,10))\n",
    "            bad_tree = s"
   ]
  },
  {
   "cell_type": "code",
   "execution_count": 21,
   "id": "1f13b4dc",
   "metadata": {},
   "outputs": [],
   "source": [
    "t = bad_tree\n",
    "#t"
   ]
  },
  {
   "cell_type": "code",
   "execution_count": 22,
   "id": "2107aec4",
   "metadata": {},
   "outputs": [],
   "source": [
    "#(1, 2)[(1, 1)[(1, 3)[], (1, 3)[]]]\n",
    "#list(simplex(4,2))"
   ]
  },
  {
   "cell_type": "code",
   "execution_count": 73,
   "id": "1a0decab",
   "metadata": {},
   "outputs": [],
   "source": [
    "leafs_left_t = 10-number_of_leafs(t)\n",
    "number_nodes = len(list(OrderedTree(t).paths()))\n",
    "#list(simplex(number_nodes, leafs_left_t))"
   ]
  },
  {
   "cell_type": "code",
   "execution_count": 76,
   "id": "83afa41c",
   "metadata": {},
   "outputs": [],
   "source": [
    "leaf_count = list(simplex(number_nodes, leafs_left_t))[2]\n",
    "#print(\"leaf_count:\",leaf_count)\n",
    "temp = None\n",
    "with t.clone() as tc:\n",
    "    for p, l in list(zip(OrderedTree(t).paths(), leaf_count)):\n",
    "        tc.set_label(p, (t.label(p)[0], t.label(p)[1]+l))\n",
    "        #print(p,tc)"
   ]
  },
  {
   "cell_type": "code",
   "execution_count": 77,
   "id": "f804007b",
   "metadata": {},
   "outputs": [],
   "source": [
    "### The resulting tree has only 9 leafs!!!!"
   ]
  }
 ],
 "metadata": {
  "kernelspec": {
   "display_name": "SageMath 10.1",
   "language": "sage",
   "name": "sagemath"
  },
  "language_info": {
   "codemirror_mode": {
    "name": "ipython",
    "version": 3
   },
   "file_extension": ".py",
   "mimetype": "text/x-python",
   "name": "python",
   "nbconvert_exporter": "python",
   "pygments_lexer": "ipython3",
   "version": "3.11.1"
  }
 },
 "nbformat": 4,
 "nbformat_minor": 5
}
