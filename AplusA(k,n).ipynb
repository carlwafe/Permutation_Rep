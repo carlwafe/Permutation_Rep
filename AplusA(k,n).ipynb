{
 "cells": [
  {
   "cell_type": "code",
   "execution_count": 20,
   "id": "85563b49",
   "metadata": {},
   "outputs": [],
   "source": [
    "%run list_trees(k,n).ipynb\n",
    "%run UT(tree).ipynb\n",
    "%run P(num,k,n).ipynb\n",
    "%run phi(i,s,t).ipynb"
   ]
  },
  {
   "cell_type": "code",
   "execution_count": 198,
   "id": "1bc3b6f2",
   "metadata": {},
   "outputs": [],
   "source": [
    "def tau_bar_0(k,n):\n",
    "    result = []\n",
    "    if (k-1)%4 == 0 and k > 2 and n%4 == 0:\n",
    "        for t in list_trees((k-1)/4,n/4):\n",
    "            if t.label(())[0] >= 1:\n",
    "                result += [add_weight_root(star_map(star_map(star_map(t,t),t),t))]\n",
    "    if (k-1)%2 == 0 and k > 2 and (n-2)%2 == 0:\n",
    "        for t in list_trees((k-1)/2,(n-2)/2):\n",
    "            if t.label(())[0] >= 1:\n",
    "                result += [LabelledRootedTree([add_weight_root(add_leaf(dot_map([t,t]),()))],label=(0,1))]\n",
    "    if (k-1)%2 == 0 and k > 2 and (n-2)%2 == 0:\n",
    "        for t in list_trees((k-1)/2,(n-2)/2):\n",
    "            if t.label(())[0] >= 1:\n",
    "                temp = star_map(t,t)\n",
    "                temp = add_weight_root(temp)\n",
    "                temp = dot_map([temp])\n",
    "                temp = add_leaf(temp,())\n",
    "                temp = add_leaf(temp,())\n",
    "                result += [temp]\n",
    "    return result"
   ]
  },
  {
   "cell_type": "code",
   "execution_count": 191,
   "id": "c08feef9",
   "metadata": {},
   "outputs": [],
   "source": [
    "# only printing the first part\n",
    "# out: [(2, 3)[(1, 3)[], (1, 3)[], (1, 3)[]]]\n",
    "# tau_bar_0(5,12)[0]"
   ]
  },
  {
   "cell_type": "code",
   "execution_count": 192,
   "id": "8d86812a",
   "metadata": {},
   "outputs": [],
   "source": [
    "# only printing the second part\n",
    "# out: (0, 1)[(1, 1)[(1, 3)[], (1, 3)[]]]\n",
    "# tau_bar_0(3,8)[0]"
   ]
  },
  {
   "cell_type": "code",
   "execution_count": 197,
   "id": "faa722c3",
   "metadata": {},
   "outputs": [],
   "source": [
    "# only print the thrid part\n",
    "# out: (0, 2)[(2, 7)[(1, 7)[]]]\n",
    "# tau_bar_0(3,16)[0]"
   ]
  },
  {
   "cell_type": "code",
   "execution_count": 199,
   "id": "65afc20d",
   "metadata": {},
   "outputs": [],
   "source": [
    "def tau_bar(k,n):\n",
    "    result = []\n",
    "    ### Tau_0\n",
    "    result += tau_bar_0(k,n)\n",
    "    ### Tau_1,...,11\n",
    "    for i in range(1,12):\n",
    "        for (s,t) in P(i,k,n):\n",
    "            result.append(phi(i,s,t))\n",
    "    return result"
   ]
  },
  {
   "cell_type": "code",
   "execution_count": 177,
   "id": "ab280485",
   "metadata": {},
   "outputs": [],
   "source": [
    "def tau_bar_1(k,n):\n",
    "    result = []\n",
    "    if (k-1)%4 == 0 and (k-1)/4 > 0 and n%4 == 0:\n",
    "        for t in list_trees((k-1)/4,n/4):\n",
    "            if t.label(())[0] >= 1:\n",
    "                result += [add_weight_root(dot_map([t,t,t,t]))]\n",
    "    return result"
   ]
  },
  {
   "cell_type": "code",
   "execution_count": 93,
   "id": "04df8283",
   "metadata": {},
   "outputs": [],
   "source": [
    "# out: []\n",
    "# tau_bar_1(3,16)"
   ]
  },
  {
   "cell_type": "code",
   "execution_count": 70,
   "id": "731cf17a",
   "metadata": {},
   "outputs": [],
   "source": [
    "# out: (1, 0)[(1, 4)[], (1, 4)[], (1, 4)[], (1, 4)[]]\n",
    "# tau_bar_1(5,16)[0]"
   ]
  },
  {
   "cell_type": "code",
   "execution_count": 61,
   "id": "100ba269",
   "metadata": {},
   "outputs": [],
   "source": [
    "def tau_bar_2(k,n):\n",
    "    result = []\n",
    "    if (k-1)%2 == 0 and k-1 > 0 and (n-2)%2 == 0:\n",
    "        for t in list_trees((k-1)/2,(n-2)/2):\n",
    "            if t.label(())[0] >= 1:\n",
    "                result += [LabelledRootedTree([t,t], label=(1,2))]\n",
    "    return result"
   ]
  },
  {
   "cell_type": "code",
   "execution_count": null,
   "id": "8c23e8af",
   "metadata": {},
   "outputs": [],
   "source": [
    "# out: (1, 2)[(1, 7)[], (1, 7)[]]\n",
    "# tau_bar_2(3,16)[0]"
   ]
  },
  {
   "cell_type": "code",
   "execution_count": 106,
   "id": "abb51e51",
   "metadata": {},
   "outputs": [],
   "source": [
    "def tau_bar_prim(k,n):\n",
    "    result = []\n",
    "    if (k-1)%2 == 0 and k-1 >= 0 and n%2 == 0:\n",
    "        result = list_trees((k-1)/2,n/2)\n",
    "        for t in list_trees((k-1)/2,n/2):\n",
    "            if t.label(()) == (0,1) and children(t,()) == 1:\n",
    "                result.remove(t)\n",
    "            elif t.label(()) == (0,0) and children(t,()) == 2:\n",
    "                ### the two children should be the same so itertools.groupby(t) = [(some_tree,2)]\n",
    "                if list(itertools.groupby(t))[0][1] == 2:\n",
    "                    result.remove(t)\n",
    "    return result"
   ]
  },
  {
   "cell_type": "code",
   "execution_count": 118,
   "id": "175543b8",
   "metadata": {},
   "outputs": [],
   "source": [
    "k = 1\n",
    "n = 10\n",
    "# print(list_trees((k-1)/2,n/2))\n",
    "# print(tau_bar_prim(k,n))"
   ]
  },
  {
   "cell_type": "code",
   "execution_count": 117,
   "id": "f8d9a7f0",
   "metadata": {},
   "outputs": [],
   "source": [
    "k = 1\n",
    "n = 10\n",
    "result = []\n",
    "if (k-1)%2 == 0 and k-1 >= 0 and n%2 == 0:\n",
    "    for t in list_trees((k-1)/2,n/2):\n",
    "        if t.label(()) == (0,1) and children(t,()) == 1:\n",
    "            result += [t]\n",
    "        if t.label(()) == (0,0) and children(t,()) == 2:\n",
    "            ### the two children should be the same so itertools.groupby(t) = [(some_tree,2)]\n",
    "            if list(itertools.groupby(t))[0][1] == 2:\n",
    "                result += [t]\n",
    "# result\n",
    "# out: [(0, 1)[(1, 49)[]]]"
   ]
  },
  {
   "cell_type": "code",
   "execution_count": 200,
   "id": "46166a8c",
   "metadata": {},
   "outputs": [],
   "source": [
    "h = Sym.homogeneous()\n",
    "s = Sym.schur()\n",
    "def AplusA(k,n):\n",
    "    result = 0\n",
    "    for t in list_trees(k,n):\n",
    "        result += UT(t)\n",
    "    for t in tau_bar(k,n):\n",
    "        result -= UT(t)\n",
    "    for t in tau_bar_1(k,n):\n",
    "        result += UT(t)\n",
    "    for t in tau_bar_2(k,n):\n",
    "        result += 2*UT(t)\n",
    "    if (k-1)%2 == 0 and k-1 >= 0 and n%2 == 0:\n",
    "        for t in tau_bar_prim(k,n):\n",
    "            result += h[2].plethysm(UT(t))\n",
    "    return result"
   ]
  }
 ],
 "metadata": {
  "kernelspec": {
   "display_name": "SageMath 10.1",
   "language": "sage",
   "name": "sagemath-10.1"
  },
  "language_info": {
   "codemirror_mode": {
    "name": "ipython",
    "version": 3
   },
   "file_extension": ".py",
   "mimetype": "text/x-python",
   "name": "python",
   "nbconvert_exporter": "python",
   "pygments_lexer": "ipython3",
   "version": "3.11.1"
  }
 },
 "nbformat": 4,
 "nbformat_minor": 5
}
