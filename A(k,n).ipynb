{
 "cells": [
  {
   "cell_type": "code",
   "execution_count": 1,
   "id": "2771837d",
   "metadata": {},
   "outputs": [],
   "source": [
    "%run AplusA(k,n).ipynb"
   ]
  },
  {
   "cell_type": "code",
   "execution_count": 7,
   "id": "8eb1bfc4",
   "metadata": {},
   "outputs": [],
   "source": [
    "def A(k,n):\n",
    "    result = 0\n",
    "    for i in range(0,k):\n",
    "        result += (-1)^(i)*AplusA(k-i,n)\n",
    "    return result + (-1)^(k)*h[n]"
   ]
  },
  {
   "cell_type": "code",
   "execution_count": null,
   "id": "33854969",
   "metadata": {},
   "outputs": [],
   "source": []
  }
 ],
 "metadata": {
  "kernelspec": {
   "display_name": "SageMath 10.1",
   "language": "sage",
   "name": "sagemath-10.1"
  },
  "language_info": {
   "codemirror_mode": {
    "name": "ipython",
    "version": 3
   },
   "file_extension": ".py",
   "mimetype": "text/x-python",
   "name": "python",
   "nbconvert_exporter": "python",
   "pygments_lexer": "ipython3",
   "version": "3.11.1"
  }
 },
 "nbformat": 4,
 "nbformat_minor": 5
}
