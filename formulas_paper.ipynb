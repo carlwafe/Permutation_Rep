{
 "cells": [
  {
   "cell_type": "code",
   "execution_count": 3,
   "id": "42472b8f",
   "metadata": {},
   "outputs": [],
   "source": [
    "%run U_functions.ipynb"
   ]
  },
  {
   "cell_type": "code",
   "execution_count": 4,
   "id": "26fff3f9",
   "metadata": {},
   "outputs": [],
   "source": [
    "A3_9_paper_schur = 11*s[9] + 12*s[5,4] + 20*s[6,3] + 19*s[7,2] + 16*s[8,1] + s[3,3,3] + 5*s[4,3,2] \\\n",
    "+ 6*s[4,4,1] + 5*s[5,2,2] + 11*s[5,3,1] + 10*s[6,2,1] + 6*s[7,1,1] + s[4,2,2,1] \\\n",
    "+ s[4,3,1,1] + s[5,2,1,1]\n",
    "#A3_9_paper_schur"
   ]
  },
  {
   "cell_type": "code",
   "execution_count": 5,
   "id": "3dedcfd8",
   "metadata": {},
   "outputs": [],
   "source": [
    "A3_9_paper_permutation = U(9,1) + U(9,3) + 2*U(9,4) + 2*U3(9,1,3)+ U3(9,1,4) + U3(9,2,3) + U3(9,3,3) \\\n",
    "+ U4_s2(9,3,1) + U3_s3(9)\n",
    "#A3_9_paper_permutation"
   ]
  },
  {
   "cell_type": "code",
   "execution_count": 6,
   "id": "336afb85",
   "metadata": {},
   "outputs": [],
   "source": [
    "#Returns True\n",
    "#A3_9_paper_schur == A3_9_paper_permutation\n",
    "A3_9_paper = A3_9_paper_permutation"
   ]
  },
  {
   "cell_type": "code",
   "execution_count": 7,
   "id": "e6dd318d",
   "metadata": {},
   "outputs": [],
   "source": [
    "## A^3(M_0,10) from Appendix in the schur basis\n",
    "A3_10_paper_schur = 21*s[10] + 12*s[5,5] + 41*s[6,4] + 48*s([7,3]) + 45*s([8,2]) + 32*s([9,1]) + 6*s([4,3,3])\n",
    "A3_10_paper_schur +=  13*s([4,4,2]) + 21*s([5,3,2]) + 26*s([5,4,1]) + 17*s([6,2,2]) + 36*s([6,3,1]) + 30*s([7,2,1])\n",
    "A3_10_paper_schur += 14*s([8,1,1]) + s([3,3,3,1]) + s([4,2,2,2]) + 4*s([4,3,2,1]) + 3*s([4,4,1,1])\n",
    "A3_10_paper_schur += 4*s([5,2,2,1]) + 6*s([5,3,1,1]) + 4*s([6,2,1,1]) + 2*s([7,1,1,1])\n",
    "#A3_10_paper_schur"
   ]
  },
  {
   "cell_type": "code",
   "execution_count": 8,
   "id": "2e54f5ab",
   "metadata": {},
   "outputs": [],
   "source": [
    "A3_10_paper_permutation = s([10]) + U(10,2) + U(10,3) + 3*U(10,4) + U(10,5) + U3(10,1,3)+ 2*U3(10,1,4) \\\n",
    "+ 2*U3(10,2,3) + U3(10,2,4) + 3*U3(10,3,3) +U4(10,1,2,3) + U3_s2(10,4) + U4_s2(10,3,3) + s([2]).plethysm(U(5,3)) \\\n",
    "+ U4_s3(10,3)\n",
    "#A3_10_paper_permutation"
   ]
  },
  {
   "cell_type": "code",
   "execution_count": 9,
   "id": "d92b2143",
   "metadata": {},
   "outputs": [],
   "source": [
    "## Returns True \n",
    "## A3_10_paper_schur == A3_10_paper_permutation \n",
    "A3_10_paper = A3_10_paper_permutation"
   ]
  },
  {
   "cell_type": "code",
   "execution_count": 10,
   "id": "09940a34",
   "metadata": {},
   "outputs": [],
   "source": [
    "A3_11_paper_permutation = U(11,1) + 2*U(11,3) + 2*U(11,4) + 3*U(11,5) + U3(11,1,3)+ 2*U3(11,1,4) + U3(11,1,5) \\\n",
    "+ 2*U3(11,2,3) + 3*U3(11,2,4) + 3*U3(11,3,3) + 4*U3(11,3,4) + U4(11,1,2,3) + U4(11,1,3,3) + U4(11,2,2,3) \\\n",
    "+ U4(11,2,3,3) + 2*U4_s2(11,3,1) + U4_s2(11,4,1) +  U4_s3(11,3)\n",
    "#A3_11_paper_permutation"
   ]
  },
  {
   "cell_type": "code",
   "execution_count": 11,
   "id": "4519baef",
   "metadata": {},
   "outputs": [],
   "source": [
    "A3_11_paper_schur = 32*s([11]) + 54*s([6,5]) + 92*s([7,4]) + 101*s([8,3]) + 84*s([9,2]) + 59*s([10,1]) \\\n",
    "+ 15*s([4,4,3]) + 22*s([5,3,3]) + 47*s([5,4,2]) + 28*s([5,5,1]) + 60*s([6,3,2]) + 78*s([6,4,1]) + 38*s([7,2,2]) \\\n",
    "+ 88*s([7,3,1]) + 66*s([8,2,1]) + 31*s([9,1,1]) + s([3,3,3,2]) + 3*s([4,3,2,2]) + 5*s([4,3,3,1]) \\\n",
    "+ 10*s([4,4,2,1])+ 3*s([5,2,2,2])+ 16*s([5,3,2,1])+ 14*s([5,4,1,1]) + 12*s([6,2,2,1]) + 17*s([6,3,1,1]) \\\n",
    "+ 13*s([7,2,1,1]) + 4*s([8,1,1,1])\n",
    "#A3_11_paper_schur"
   ]
  },
  {
   "cell_type": "code",
   "execution_count": 12,
   "id": "984a88ee",
   "metadata": {},
   "outputs": [],
   "source": [
    "### Returns True\n",
    "#A3_11_paper_schur == A3_11_paper_permutation\n",
    "A3_11_paper = A3_11_paper_permutation"
   ]
  },
  {
   "cell_type": "code",
   "execution_count": 13,
   "id": "bc933eef",
   "metadata": {},
   "outputs": [],
   "source": [
    "A4_11_paper_schur = 44*s([11]) + 85*s([6,5]) + 145*s([7,4]) + 152*s([8,3]) + 125*s([9,2]) + 81*s([10,1]) \\\n",
    "+ 30*s([4,4,3]) + 41*s([5,3,3]) + 90*s([5,4,2]) + 49*s([5,5,1]) + 111*s([6,3,2]) + 139*s([6,4,1]) \\\n",
    "+ 70*s([7,2,2]) + 149*s([7,3,1]) + 111*s([8,2,1]) + 47*s([9,1,1]) + 2*s([3,3,3,2]) + 9*s([4,3,2,2]) \\\n",
    "+ 14*s([4,3,3,1]) + 23*s([4,4,2,1])+8*s([5,2,2,2])+41*s([5,3,2,1])+33*s([5,4,1,1])+27*s([6,2,2,1]) \\\n",
    "+ 41*s([6,3,1,1])+ 29*s([7,2,1,1]) + 10*s([8,1,1,1]) + s([3,3,3,1,1]) + s([4,2,2,2,1]) \\\n",
    "+ 2*s([4,3,2,1,1]) + s([4,4,1,1,1]) + 2*s([5,2,2,1,1]) + 3*s([5,3,1,1,1]) + s([6,2,1,1,1]) \\\n",
    "+ s([7,1,1,1,1])\n",
    "#A4_11_paper_schur"
   ]
  },
  {
   "cell_type": "code",
   "execution_count": 14,
   "id": "38a7d1dc",
   "metadata": {},
   "outputs": [],
   "source": [
    "H = (s([2]).plethysm(U(5,3)))*s([1])\n",
    "A4_11_paper_permutation = s([11]) + U(11,2) + U(11,3) + 3*U(11,4) + 3*U(11,5) + U3(11,1,3)+ 2*U3(11,1,4) \\\n",
    "+ U3(11,1,5) + 2*U3(11,2,3) + 4*U3(11,2,4) + 3*U3(11,3,3) + 4*U3(11,3,4) + 2*U3_s2(11,3) + 2*U3_s2(11,4) \\\n",
    "+ U3_s2(11,5) + U4(11,1,2,3) + U4(11,1,2,4) + 3*U4(11,1,3,3) + 2*U4(11,2,2,3) + U4(11,2,3,3) + U4_s2(11,3,1) \\\n",
    "+ 2*U4_s2(11,3,2) + H + U5_s3(11,3,1)\n",
    "#A4_11_paper_permutation"
   ]
  },
  {
   "cell_type": "code",
   "execution_count": 16,
   "id": "995feec2",
   "metadata": {},
   "outputs": [],
   "source": [
    "# Returns True\n",
    "#A4_11_paper_schur == A4_11_paper_permutation\n",
    "A4_11_paper = A4_11_paper_permutation"
   ]
  },
  {
   "cell_type": "code",
   "execution_count": null,
   "id": "57680b31",
   "metadata": {},
   "outputs": [],
   "source": []
  }
 ],
 "metadata": {
  "kernelspec": {
   "display_name": "SageMath 10.1",
   "language": "sage",
   "name": "sagemath-10.1"
  },
  "language_info": {
   "codemirror_mode": {
    "name": "ipython",
    "version": 3
   },
   "file_extension": ".py",
   "mimetype": "text/x-python",
   "name": "python",
   "nbconvert_exporter": "python",
   "pygments_lexer": "ipython3",
   "version": "3.11.1"
  }
 },
 "nbformat": 4,
 "nbformat_minor": 5
}
