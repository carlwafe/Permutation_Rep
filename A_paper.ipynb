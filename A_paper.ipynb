{
 "cells": [
  {
   "cell_type": "code",
   "execution_count": 1,
   "id": "b6c060b2",
   "metadata": {},
   "outputs": [],
   "source": [
    "%run U_functions.ipynb"
   ]
  },
  {
   "cell_type": "code",
   "execution_count": 41,
   "id": "4df899e8",
   "metadata": {},
   "outputs": [],
   "source": [
    "def A_paper(k,n):\n",
    "    result = 0\n",
    "    if k == 1:\n",
    "        for a in range(4,n+1):\n",
    "            if a%2 == 0:\n",
    "                result += U(n,a)\n",
    "    elif k == 2:\n",
    "        for a in range(5,n+1):\n",
    "            if a%2 == 1:\n",
    "                result += U(n,a)\n",
    "        for a in range(3,n+1):\n",
    "            for b in range(a+1,n+1):\n",
    "                result += U3(n,a,b)\n",
    "        for a in range(3,n+1):\n",
    "            result += U3_s2(n,a)\n",
    "    elif k == 3:\n",
    "        result += A_paper(1,n)\n",
    "        result -= U(n,4)\n",
    "        #### Trees of kind VI'\n",
    "        for a in range(3,n+1):\n",
    "            for b in range(a,n+1):\n",
    "                if n-a-b >= 2 and not (a,b,n-a-b) == ((n-2)/2,(n-2)/2,2):\n",
    "                    result += U3(n,a,b)\n",
    "        #### Trees of kind IX\n",
    "        for a in range(4,n+1):\n",
    "            for b in range(3,n+1):\n",
    "                result += U3(n,a,b)\n",
    "        #### Trees of kind XI'        \n",
    "        for a in range(3,n+1):\n",
    "            for b in range(a+1,n+1):\n",
    "                if n-a-b-1 >= 1 and b <= (n-2)/2:\n",
    "                    result += U4(n,a,b,1)\n",
    "        for a in range(3,n+1):\n",
    "            if n-2*a-1 >= 2:\n",
    "                result += U4_s2(n,a,1)\n",
    "        #### Trees of kind XII'\n",
    "        for a in range(3,n+1):\n",
    "            for b in range(2,n+1):\n",
    "                for c in range(3,n+1):\n",
    "                    if a+b < n/2 and n-a-b-c >= 1:\n",
    "                        result += U4(n,a,b,c)\n",
    "                    elif a+b == n/2 and b < n-a-b-c:\n",
    "                        result += U4(n,a,b,c)\n",
    "        #### Trees of kind XIII'\n",
    "        for a in range(3,n+1):\n",
    "            for b in range(a+1,n+1):\n",
    "                for c in range(b+1,n+1):\n",
    "                    result += U4(n,a,b,c)\n",
    "        for a in range(3,n+1):\n",
    "            for b in range(3,n+1):\n",
    "                if not a == b:\n",
    "                    if n-2*a-b >= 1:\n",
    "                        result += U4_s2(n,a,b)\n",
    "        for a in range(3,n+1):\n",
    "            result += U4_s3(n,a)\n",
    "        #### Remaining pleythym terms\n",
    "        if n%3 == 0:\n",
    "            result -= U3_s2(n,n/3)\n",
    "        if n%2 == 0:\n",
    "            result += U3_s2(n,(n-2)/2)\n",
    "        if n%2 == 0:\n",
    "            for a in range(3,n+1):\n",
    "                if a <= n/2-2:\n",
    "                    result += s[2].plethysm(U(n/2,a))\n",
    "    else:\n",
    "        raise ValueError(\"functions is onyl defined for k=1,2,3\")\n",
    "    return result"
   ]
  },
  {
   "cell_type": "code",
   "execution_count": null,
   "id": "aaca963b",
   "metadata": {},
   "outputs": [],
   "source": []
  }
 ],
 "metadata": {
  "kernelspec": {
   "display_name": "SageMath 10.1",
   "language": "sage",
   "name": "sagemath-10.1"
  },
  "language_info": {
   "codemirror_mode": {
    "name": "ipython",
    "version": 3
   },
   "file_extension": ".py",
   "mimetype": "text/x-python",
   "name": "python",
   "nbconvert_exporter": "python",
   "pygments_lexer": "ipython3",
   "version": "3.11.1"
  }
 },
 "nbformat": 4,
 "nbformat_minor": 5
}
